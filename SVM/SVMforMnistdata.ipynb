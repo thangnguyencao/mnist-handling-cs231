{
  "nbformat": 4,
  "nbformat_minor": 0,
  "metadata": {
    "colab": {
      "name": "SVMforMnistdata.ipynb",
      "provenance": [],
      "collapsed_sections": []
    },
    "kernelspec": {
      "name": "python3",
      "display_name": "Python 3"
    },
    "language_info": {
      "name": "python"
    }
  },
  "cells": [
    {
      "cell_type": "code",
      "execution_count": null,
      "metadata": {
        "id": "Cez6kInUFt2Z"
      },
      "outputs": [],
      "source": [
        "import numpy as np\n",
        "import pandas as pd\n",
        "import matplotlib.pyplot as plt\n",
        "import seaborn as sns\n",
        "from sklearn import linear_model\n",
        "from sklearn.model_selection import train_test_split\n",
        "import gc\n",
        "import cv2"
      ]
    },
    {
      "cell_type": "code",
      "source": [
        "import numpy as np\n",
        "import pandas as pd\n",
        "from sklearn.model_selection import train_test_split\n",
        "from sklearn.svm import SVC\n",
        "from sklearn.metrics import confusion_matrix\n",
        "from sklearn.model_selection import validation_curve\n",
        "from sklearn.model_selection import KFold\n",
        "from sklearn.model_selection import cross_val_score\n",
        "from sklearn.model_selection import GridSearchCV\n",
        "import matplotlib.pyplot as plt\n",
        "import seaborn as sns"
      ],
      "metadata": {
        "id": "kV7oWSxwbhOy"
      },
      "execution_count": null,
      "outputs": []
    },
    {
      "cell_type": "code",
      "source": [
        "import seaborn as sns\n",
        "%matplotlib inline"
      ],
      "metadata": {
        "id": "F7Mt71VRR8Og"
      },
      "execution_count": null,
      "outputs": []
    },
    {
      "cell_type": "code",
      "source": [
        "from google.colab import drive\n",
        "drive.mount('/gdrive')"
      ],
      "metadata": {
        "colab": {
          "base_uri": "https://localhost:8080/"
        },
        "id": "NrX_fwbGTMhG",
        "outputId": "e76cf5ac-0f9c-49c8-dbaf-14957c097b8a"
      },
      "execution_count": null,
      "outputs": [
        {
          "output_type": "stream",
          "name": "stdout",
          "text": [
            "Mounted at /gdrive\n"
          ]
        }
      ]
    },
    {
      "cell_type": "code",
      "source": [
        "# read the dataset\n",
        "train_data  = pd.read_csv(\"/gdrive/MyDrive/Nhập môn CV/train.csv\")\n",
        "train_data .info()"
      ],
      "metadata": {
        "colab": {
          "base_uri": "https://localhost:8080/"
        },
        "id": "OPIxUxLMRP0G",
        "outputId": "2a85585f-7740-4d23-d8db-9e9400340e76"
      },
      "execution_count": null,
      "outputs": [
        {
          "output_type": "stream",
          "name": "stdout",
          "text": [
            "<class 'pandas.core.frame.DataFrame'>\n",
            "RangeIndex: 42000 entries, 0 to 41999\n",
            "Columns: 785 entries, label to pixel783\n",
            "dtypes: int64(785)\n",
            "memory usage: 251.5 MB\n"
          ]
        }
      ]
    },
    {
      "cell_type": "code",
      "source": [
        "test_data   = pd.read_csv(\"/gdrive/MyDrive/Nhập môn CV/test.csv\")\n",
        "test_data  .info()"
      ],
      "metadata": {
        "colab": {
          "base_uri": "https://localhost:8080/"
        },
        "id": "H3WJTusaTe4X",
        "outputId": "c4f6f42c-e87a-4039-acc6-ab2089d1e7c5"
      },
      "execution_count": null,
      "outputs": [
        {
          "output_type": "stream",
          "name": "stdout",
          "text": [
            "<class 'pandas.core.frame.DataFrame'>\n",
            "RangeIndex: 28000 entries, 0 to 27999\n",
            "Columns: 784 entries, pixel0 to pixel783\n",
            "dtypes: int64(784)\n",
            "memory usage: 167.5 MB\n"
          ]
        }
      ]
    },
    {
      "cell_type": "code",
      "source": [
        "# head\n",
        "train_data .head()"
      ],
      "metadata": {
        "colab": {
          "base_uri": "https://localhost:8080/",
          "height": 279
        },
        "id": "suf1_nCHT_md",
        "outputId": "0ec9cce2-fb07-4579-f617-10ac1cb8e60d"
      },
      "execution_count": null,
      "outputs": [
        {
          "output_type": "execute_result",
          "data": {
            "text/plain": [
              "   label  pixel0  pixel1  pixel2  pixel3  pixel4  pixel5  pixel6  pixel7  \\\n",
              "0      1       0       0       0       0       0       0       0       0   \n",
              "1      0       0       0       0       0       0       0       0       0   \n",
              "2      1       0       0       0       0       0       0       0       0   \n",
              "3      4       0       0       0       0       0       0       0       0   \n",
              "4      0       0       0       0       0       0       0       0       0   \n",
              "\n",
              "   pixel8  ...  pixel774  pixel775  pixel776  pixel777  pixel778  pixel779  \\\n",
              "0       0  ...         0         0         0         0         0         0   \n",
              "1       0  ...         0         0         0         0         0         0   \n",
              "2       0  ...         0         0         0         0         0         0   \n",
              "3       0  ...         0         0         0         0         0         0   \n",
              "4       0  ...         0         0         0         0         0         0   \n",
              "\n",
              "   pixel780  pixel781  pixel782  pixel783  \n",
              "0         0         0         0         0  \n",
              "1         0         0         0         0  \n",
              "2         0         0         0         0  \n",
              "3         0         0         0         0  \n",
              "4         0         0         0         0  \n",
              "\n",
              "[5 rows x 785 columns]"
            ],
            "text/html": [
              "\n",
              "  <div id=\"df-a87a9d05-d937-4cb1-b465-0f290be7bf09\">\n",
              "    <div class=\"colab-df-container\">\n",
              "      <div>\n",
              "<style scoped>\n",
              "    .dataframe tbody tr th:only-of-type {\n",
              "        vertical-align: middle;\n",
              "    }\n",
              "\n",
              "    .dataframe tbody tr th {\n",
              "        vertical-align: top;\n",
              "    }\n",
              "\n",
              "    .dataframe thead th {\n",
              "        text-align: right;\n",
              "    }\n",
              "</style>\n",
              "<table border=\"1\" class=\"dataframe\">\n",
              "  <thead>\n",
              "    <tr style=\"text-align: right;\">\n",
              "      <th></th>\n",
              "      <th>label</th>\n",
              "      <th>pixel0</th>\n",
              "      <th>pixel1</th>\n",
              "      <th>pixel2</th>\n",
              "      <th>pixel3</th>\n",
              "      <th>pixel4</th>\n",
              "      <th>pixel5</th>\n",
              "      <th>pixel6</th>\n",
              "      <th>pixel7</th>\n",
              "      <th>pixel8</th>\n",
              "      <th>...</th>\n",
              "      <th>pixel774</th>\n",
              "      <th>pixel775</th>\n",
              "      <th>pixel776</th>\n",
              "      <th>pixel777</th>\n",
              "      <th>pixel778</th>\n",
              "      <th>pixel779</th>\n",
              "      <th>pixel780</th>\n",
              "      <th>pixel781</th>\n",
              "      <th>pixel782</th>\n",
              "      <th>pixel783</th>\n",
              "    </tr>\n",
              "  </thead>\n",
              "  <tbody>\n",
              "    <tr>\n",
              "      <th>0</th>\n",
              "      <td>1</td>\n",
              "      <td>0</td>\n",
              "      <td>0</td>\n",
              "      <td>0</td>\n",
              "      <td>0</td>\n",
              "      <td>0</td>\n",
              "      <td>0</td>\n",
              "      <td>0</td>\n",
              "      <td>0</td>\n",
              "      <td>0</td>\n",
              "      <td>...</td>\n",
              "      <td>0</td>\n",
              "      <td>0</td>\n",
              "      <td>0</td>\n",
              "      <td>0</td>\n",
              "      <td>0</td>\n",
              "      <td>0</td>\n",
              "      <td>0</td>\n",
              "      <td>0</td>\n",
              "      <td>0</td>\n",
              "      <td>0</td>\n",
              "    </tr>\n",
              "    <tr>\n",
              "      <th>1</th>\n",
              "      <td>0</td>\n",
              "      <td>0</td>\n",
              "      <td>0</td>\n",
              "      <td>0</td>\n",
              "      <td>0</td>\n",
              "      <td>0</td>\n",
              "      <td>0</td>\n",
              "      <td>0</td>\n",
              "      <td>0</td>\n",
              "      <td>0</td>\n",
              "      <td>...</td>\n",
              "      <td>0</td>\n",
              "      <td>0</td>\n",
              "      <td>0</td>\n",
              "      <td>0</td>\n",
              "      <td>0</td>\n",
              "      <td>0</td>\n",
              "      <td>0</td>\n",
              "      <td>0</td>\n",
              "      <td>0</td>\n",
              "      <td>0</td>\n",
              "    </tr>\n",
              "    <tr>\n",
              "      <th>2</th>\n",
              "      <td>1</td>\n",
              "      <td>0</td>\n",
              "      <td>0</td>\n",
              "      <td>0</td>\n",
              "      <td>0</td>\n",
              "      <td>0</td>\n",
              "      <td>0</td>\n",
              "      <td>0</td>\n",
              "      <td>0</td>\n",
              "      <td>0</td>\n",
              "      <td>...</td>\n",
              "      <td>0</td>\n",
              "      <td>0</td>\n",
              "      <td>0</td>\n",
              "      <td>0</td>\n",
              "      <td>0</td>\n",
              "      <td>0</td>\n",
              "      <td>0</td>\n",
              "      <td>0</td>\n",
              "      <td>0</td>\n",
              "      <td>0</td>\n",
              "    </tr>\n",
              "    <tr>\n",
              "      <th>3</th>\n",
              "      <td>4</td>\n",
              "      <td>0</td>\n",
              "      <td>0</td>\n",
              "      <td>0</td>\n",
              "      <td>0</td>\n",
              "      <td>0</td>\n",
              "      <td>0</td>\n",
              "      <td>0</td>\n",
              "      <td>0</td>\n",
              "      <td>0</td>\n",
              "      <td>...</td>\n",
              "      <td>0</td>\n",
              "      <td>0</td>\n",
              "      <td>0</td>\n",
              "      <td>0</td>\n",
              "      <td>0</td>\n",
              "      <td>0</td>\n",
              "      <td>0</td>\n",
              "      <td>0</td>\n",
              "      <td>0</td>\n",
              "      <td>0</td>\n",
              "    </tr>\n",
              "    <tr>\n",
              "      <th>4</th>\n",
              "      <td>0</td>\n",
              "      <td>0</td>\n",
              "      <td>0</td>\n",
              "      <td>0</td>\n",
              "      <td>0</td>\n",
              "      <td>0</td>\n",
              "      <td>0</td>\n",
              "      <td>0</td>\n",
              "      <td>0</td>\n",
              "      <td>0</td>\n",
              "      <td>...</td>\n",
              "      <td>0</td>\n",
              "      <td>0</td>\n",
              "      <td>0</td>\n",
              "      <td>0</td>\n",
              "      <td>0</td>\n",
              "      <td>0</td>\n",
              "      <td>0</td>\n",
              "      <td>0</td>\n",
              "      <td>0</td>\n",
              "      <td>0</td>\n",
              "    </tr>\n",
              "  </tbody>\n",
              "</table>\n",
              "<p>5 rows × 785 columns</p>\n",
              "</div>\n",
              "      <button class=\"colab-df-convert\" onclick=\"convertToInteractive('df-a87a9d05-d937-4cb1-b465-0f290be7bf09')\"\n",
              "              title=\"Convert this dataframe to an interactive table.\"\n",
              "              style=\"display:none;\">\n",
              "        \n",
              "  <svg xmlns=\"http://www.w3.org/2000/svg\" height=\"24px\"viewBox=\"0 0 24 24\"\n",
              "       width=\"24px\">\n",
              "    <path d=\"M0 0h24v24H0V0z\" fill=\"none\"/>\n",
              "    <path d=\"M18.56 5.44l.94 2.06.94-2.06 2.06-.94-2.06-.94-.94-2.06-.94 2.06-2.06.94zm-11 1L8.5 8.5l.94-2.06 2.06-.94-2.06-.94L8.5 2.5l-.94 2.06-2.06.94zm10 10l.94 2.06.94-2.06 2.06-.94-2.06-.94-.94-2.06-.94 2.06-2.06.94z\"/><path d=\"M17.41 7.96l-1.37-1.37c-.4-.4-.92-.59-1.43-.59-.52 0-1.04.2-1.43.59L10.3 9.45l-7.72 7.72c-.78.78-.78 2.05 0 2.83L4 21.41c.39.39.9.59 1.41.59.51 0 1.02-.2 1.41-.59l7.78-7.78 2.81-2.81c.8-.78.8-2.07 0-2.86zM5.41 20L4 18.59l7.72-7.72 1.47 1.35L5.41 20z\"/>\n",
              "  </svg>\n",
              "      </button>\n",
              "      \n",
              "  <style>\n",
              "    .colab-df-container {\n",
              "      display:flex;\n",
              "      flex-wrap:wrap;\n",
              "      gap: 12px;\n",
              "    }\n",
              "\n",
              "    .colab-df-convert {\n",
              "      background-color: #E8F0FE;\n",
              "      border: none;\n",
              "      border-radius: 50%;\n",
              "      cursor: pointer;\n",
              "      display: none;\n",
              "      fill: #1967D2;\n",
              "      height: 32px;\n",
              "      padding: 0 0 0 0;\n",
              "      width: 32px;\n",
              "    }\n",
              "\n",
              "    .colab-df-convert:hover {\n",
              "      background-color: #E2EBFA;\n",
              "      box-shadow: 0px 1px 2px rgba(60, 64, 67, 0.3), 0px 1px 3px 1px rgba(60, 64, 67, 0.15);\n",
              "      fill: #174EA6;\n",
              "    }\n",
              "\n",
              "    [theme=dark] .colab-df-convert {\n",
              "      background-color: #3B4455;\n",
              "      fill: #D2E3FC;\n",
              "    }\n",
              "\n",
              "    [theme=dark] .colab-df-convert:hover {\n",
              "      background-color: #434B5C;\n",
              "      box-shadow: 0px 1px 3px 1px rgba(0, 0, 0, 0.15);\n",
              "      filter: drop-shadow(0px 1px 2px rgba(0, 0, 0, 0.3));\n",
              "      fill: #FFFFFF;\n",
              "    }\n",
              "  </style>\n",
              "\n",
              "      <script>\n",
              "        const buttonEl =\n",
              "          document.querySelector('#df-a87a9d05-d937-4cb1-b465-0f290be7bf09 button.colab-df-convert');\n",
              "        buttonEl.style.display =\n",
              "          google.colab.kernel.accessAllowed ? 'block' : 'none';\n",
              "\n",
              "        async function convertToInteractive(key) {\n",
              "          const element = document.querySelector('#df-a87a9d05-d937-4cb1-b465-0f290be7bf09');\n",
              "          const dataTable =\n",
              "            await google.colab.kernel.invokeFunction('convertToInteractive',\n",
              "                                                     [key], {});\n",
              "          if (!dataTable) return;\n",
              "\n",
              "          const docLinkHtml = 'Like what you see? Visit the ' +\n",
              "            '<a target=\"_blank\" href=https://colab.research.google.com/notebooks/data_table.ipynb>data table notebook</a>'\n",
              "            + ' to learn more about interactive tables.';\n",
              "          element.innerHTML = '';\n",
              "          dataTable['output_type'] = 'display_data';\n",
              "          await google.colab.output.renderOutput(dataTable, element);\n",
              "          const docLink = document.createElement('div');\n",
              "          docLink.innerHTML = docLinkHtml;\n",
              "          element.appendChild(docLink);\n",
              "        }\n",
              "      </script>\n",
              "    </div>\n",
              "  </div>\n",
              "  "
            ]
          },
          "metadata": {},
          "execution_count": 8
        }
      ]
    },
    {
      "cell_type": "code",
      "source": [
        "test_data.head()"
      ],
      "metadata": {
        "colab": {
          "base_uri": "https://localhost:8080/",
          "height": 299
        },
        "id": "39NRYmnZT0-3",
        "outputId": "3049653c-3eba-4fad-9c4f-785979605c82"
      },
      "execution_count": null,
      "outputs": [
        {
          "output_type": "execute_result",
          "data": {
            "text/plain": [
              "   pixel0  pixel1  pixel2  pixel3  pixel4  pixel5  pixel6  pixel7  pixel8  \\\n",
              "0       0       0       0       0       0       0       0       0       0   \n",
              "1       0       0       0       0       0       0       0       0       0   \n",
              "2       0       0       0       0       0       0       0       0       0   \n",
              "3       0       0       0       0       0       0       0       0       0   \n",
              "4       0       0       0       0       0       0       0       0       0   \n",
              "\n",
              "   pixel9  ...  pixel774  pixel775  pixel776  pixel777  pixel778  pixel779  \\\n",
              "0       0  ...         0         0         0         0         0         0   \n",
              "1       0  ...         0         0         0         0         0         0   \n",
              "2       0  ...         0         0         0         0         0         0   \n",
              "3       0  ...         0         0         0         0         0         0   \n",
              "4       0  ...         0         0         0         0         0         0   \n",
              "\n",
              "   pixel780  pixel781  pixel782  pixel783  \n",
              "0         0         0         0         0  \n",
              "1         0         0         0         0  \n",
              "2         0         0         0         0  \n",
              "3         0         0         0         0  \n",
              "4         0         0         0         0  \n",
              "\n",
              "[5 rows x 784 columns]"
            ],
            "text/html": [
              "\n",
              "  <div id=\"df-3635da29-23d3-4f7d-aa4e-59a576e9512b\">\n",
              "    <div class=\"colab-df-container\">\n",
              "      <div>\n",
              "<style scoped>\n",
              "    .dataframe tbody tr th:only-of-type {\n",
              "        vertical-align: middle;\n",
              "    }\n",
              "\n",
              "    .dataframe tbody tr th {\n",
              "        vertical-align: top;\n",
              "    }\n",
              "\n",
              "    .dataframe thead th {\n",
              "        text-align: right;\n",
              "    }\n",
              "</style>\n",
              "<table border=\"1\" class=\"dataframe\">\n",
              "  <thead>\n",
              "    <tr style=\"text-align: right;\">\n",
              "      <th></th>\n",
              "      <th>pixel0</th>\n",
              "      <th>pixel1</th>\n",
              "      <th>pixel2</th>\n",
              "      <th>pixel3</th>\n",
              "      <th>pixel4</th>\n",
              "      <th>pixel5</th>\n",
              "      <th>pixel6</th>\n",
              "      <th>pixel7</th>\n",
              "      <th>pixel8</th>\n",
              "      <th>pixel9</th>\n",
              "      <th>...</th>\n",
              "      <th>pixel774</th>\n",
              "      <th>pixel775</th>\n",
              "      <th>pixel776</th>\n",
              "      <th>pixel777</th>\n",
              "      <th>pixel778</th>\n",
              "      <th>pixel779</th>\n",
              "      <th>pixel780</th>\n",
              "      <th>pixel781</th>\n",
              "      <th>pixel782</th>\n",
              "      <th>pixel783</th>\n",
              "    </tr>\n",
              "  </thead>\n",
              "  <tbody>\n",
              "    <tr>\n",
              "      <th>0</th>\n",
              "      <td>0</td>\n",
              "      <td>0</td>\n",
              "      <td>0</td>\n",
              "      <td>0</td>\n",
              "      <td>0</td>\n",
              "      <td>0</td>\n",
              "      <td>0</td>\n",
              "      <td>0</td>\n",
              "      <td>0</td>\n",
              "      <td>0</td>\n",
              "      <td>...</td>\n",
              "      <td>0</td>\n",
              "      <td>0</td>\n",
              "      <td>0</td>\n",
              "      <td>0</td>\n",
              "      <td>0</td>\n",
              "      <td>0</td>\n",
              "      <td>0</td>\n",
              "      <td>0</td>\n",
              "      <td>0</td>\n",
              "      <td>0</td>\n",
              "    </tr>\n",
              "    <tr>\n",
              "      <th>1</th>\n",
              "      <td>0</td>\n",
              "      <td>0</td>\n",
              "      <td>0</td>\n",
              "      <td>0</td>\n",
              "      <td>0</td>\n",
              "      <td>0</td>\n",
              "      <td>0</td>\n",
              "      <td>0</td>\n",
              "      <td>0</td>\n",
              "      <td>0</td>\n",
              "      <td>...</td>\n",
              "      <td>0</td>\n",
              "      <td>0</td>\n",
              "      <td>0</td>\n",
              "      <td>0</td>\n",
              "      <td>0</td>\n",
              "      <td>0</td>\n",
              "      <td>0</td>\n",
              "      <td>0</td>\n",
              "      <td>0</td>\n",
              "      <td>0</td>\n",
              "    </tr>\n",
              "    <tr>\n",
              "      <th>2</th>\n",
              "      <td>0</td>\n",
              "      <td>0</td>\n",
              "      <td>0</td>\n",
              "      <td>0</td>\n",
              "      <td>0</td>\n",
              "      <td>0</td>\n",
              "      <td>0</td>\n",
              "      <td>0</td>\n",
              "      <td>0</td>\n",
              "      <td>0</td>\n",
              "      <td>...</td>\n",
              "      <td>0</td>\n",
              "      <td>0</td>\n",
              "      <td>0</td>\n",
              "      <td>0</td>\n",
              "      <td>0</td>\n",
              "      <td>0</td>\n",
              "      <td>0</td>\n",
              "      <td>0</td>\n",
              "      <td>0</td>\n",
              "      <td>0</td>\n",
              "    </tr>\n",
              "    <tr>\n",
              "      <th>3</th>\n",
              "      <td>0</td>\n",
              "      <td>0</td>\n",
              "      <td>0</td>\n",
              "      <td>0</td>\n",
              "      <td>0</td>\n",
              "      <td>0</td>\n",
              "      <td>0</td>\n",
              "      <td>0</td>\n",
              "      <td>0</td>\n",
              "      <td>0</td>\n",
              "      <td>...</td>\n",
              "      <td>0</td>\n",
              "      <td>0</td>\n",
              "      <td>0</td>\n",
              "      <td>0</td>\n",
              "      <td>0</td>\n",
              "      <td>0</td>\n",
              "      <td>0</td>\n",
              "      <td>0</td>\n",
              "      <td>0</td>\n",
              "      <td>0</td>\n",
              "    </tr>\n",
              "    <tr>\n",
              "      <th>4</th>\n",
              "      <td>0</td>\n",
              "      <td>0</td>\n",
              "      <td>0</td>\n",
              "      <td>0</td>\n",
              "      <td>0</td>\n",
              "      <td>0</td>\n",
              "      <td>0</td>\n",
              "      <td>0</td>\n",
              "      <td>0</td>\n",
              "      <td>0</td>\n",
              "      <td>...</td>\n",
              "      <td>0</td>\n",
              "      <td>0</td>\n",
              "      <td>0</td>\n",
              "      <td>0</td>\n",
              "      <td>0</td>\n",
              "      <td>0</td>\n",
              "      <td>0</td>\n",
              "      <td>0</td>\n",
              "      <td>0</td>\n",
              "      <td>0</td>\n",
              "    </tr>\n",
              "  </tbody>\n",
              "</table>\n",
              "<p>5 rows × 784 columns</p>\n",
              "</div>\n",
              "      <button class=\"colab-df-convert\" onclick=\"convertToInteractive('df-3635da29-23d3-4f7d-aa4e-59a576e9512b')\"\n",
              "              title=\"Convert this dataframe to an interactive table.\"\n",
              "              style=\"display:none;\">\n",
              "        \n",
              "  <svg xmlns=\"http://www.w3.org/2000/svg\" height=\"24px\"viewBox=\"0 0 24 24\"\n",
              "       width=\"24px\">\n",
              "    <path d=\"M0 0h24v24H0V0z\" fill=\"none\"/>\n",
              "    <path d=\"M18.56 5.44l.94 2.06.94-2.06 2.06-.94-2.06-.94-.94-2.06-.94 2.06-2.06.94zm-11 1L8.5 8.5l.94-2.06 2.06-.94-2.06-.94L8.5 2.5l-.94 2.06-2.06.94zm10 10l.94 2.06.94-2.06 2.06-.94-2.06-.94-.94-2.06-.94 2.06-2.06.94z\"/><path d=\"M17.41 7.96l-1.37-1.37c-.4-.4-.92-.59-1.43-.59-.52 0-1.04.2-1.43.59L10.3 9.45l-7.72 7.72c-.78.78-.78 2.05 0 2.83L4 21.41c.39.39.9.59 1.41.59.51 0 1.02-.2 1.41-.59l7.78-7.78 2.81-2.81c.8-.78.8-2.07 0-2.86zM5.41 20L4 18.59l7.72-7.72 1.47 1.35L5.41 20z\"/>\n",
              "  </svg>\n",
              "      </button>\n",
              "      \n",
              "  <style>\n",
              "    .colab-df-container {\n",
              "      display:flex;\n",
              "      flex-wrap:wrap;\n",
              "      gap: 12px;\n",
              "    }\n",
              "\n",
              "    .colab-df-convert {\n",
              "      background-color: #E8F0FE;\n",
              "      border: none;\n",
              "      border-radius: 50%;\n",
              "      cursor: pointer;\n",
              "      display: none;\n",
              "      fill: #1967D2;\n",
              "      height: 32px;\n",
              "      padding: 0 0 0 0;\n",
              "      width: 32px;\n",
              "    }\n",
              "\n",
              "    .colab-df-convert:hover {\n",
              "      background-color: #E2EBFA;\n",
              "      box-shadow: 0px 1px 2px rgba(60, 64, 67, 0.3), 0px 1px 3px 1px rgba(60, 64, 67, 0.15);\n",
              "      fill: #174EA6;\n",
              "    }\n",
              "\n",
              "    [theme=dark] .colab-df-convert {\n",
              "      background-color: #3B4455;\n",
              "      fill: #D2E3FC;\n",
              "    }\n",
              "\n",
              "    [theme=dark] .colab-df-convert:hover {\n",
              "      background-color: #434B5C;\n",
              "      box-shadow: 0px 1px 3px 1px rgba(0, 0, 0, 0.15);\n",
              "      filter: drop-shadow(0px 1px 2px rgba(0, 0, 0, 0.3));\n",
              "      fill: #FFFFFF;\n",
              "    }\n",
              "  </style>\n",
              "\n",
              "      <script>\n",
              "        const buttonEl =\n",
              "          document.querySelector('#df-3635da29-23d3-4f7d-aa4e-59a576e9512b button.colab-df-convert');\n",
              "        buttonEl.style.display =\n",
              "          google.colab.kernel.accessAllowed ? 'block' : 'none';\n",
              "\n",
              "        async function convertToInteractive(key) {\n",
              "          const element = document.querySelector('#df-3635da29-23d3-4f7d-aa4e-59a576e9512b');\n",
              "          const dataTable =\n",
              "            await google.colab.kernel.invokeFunction('convertToInteractive',\n",
              "                                                     [key], {});\n",
              "          if (!dataTable) return;\n",
              "\n",
              "          const docLinkHtml = 'Like what you see? Visit the ' +\n",
              "            '<a target=\"_blank\" href=https://colab.research.google.com/notebooks/data_table.ipynb>data table notebook</a>'\n",
              "            + ' to learn more about interactive tables.';\n",
              "          element.innerHTML = '';\n",
              "          dataTable['output_type'] = 'display_data';\n",
              "          await google.colab.output.renderOutput(dataTable, element);\n",
              "          const docLink = document.createElement('div');\n",
              "          docLink.innerHTML = docLinkHtml;\n",
              "          element.appendChild(docLink);\n",
              "        }\n",
              "      </script>\n",
              "    </div>\n",
              "  </div>\n",
              "  "
            ]
          },
          "metadata": {},
          "execution_count": 9
        }
      ]
    },
    {
      "cell_type": "code",
      "source": [
        "order = list(np.sort(train_data['label'].unique()))\n",
        "print(order)"
      ],
      "metadata": {
        "colab": {
          "base_uri": "https://localhost:8080/"
        },
        "id": "G9OHo74LUeMI",
        "outputId": "e2392eb3-49dd-45ad-e282-cf765d6d4dff"
      },
      "execution_count": null,
      "outputs": [
        {
          "output_type": "stream",
          "name": "stdout",
          "text": [
            "[0, 1, 2, 3, 4, 5, 6, 7, 8, 9]\n"
          ]
        }
      ]
    },
    {
      "cell_type": "code",
      "source": [
        "## Visualizing the number of class and counts in the datasets\n",
        "\n",
        "sns.countplot(train_data[\"label\"])"
      ],
      "metadata": {
        "colab": {
          "base_uri": "https://localhost:8080/",
          "height": 351
        },
        "id": "BuPCdgNFUuIX",
        "outputId": "50088c64-4a11-428a-d8ee-74c0a992e89e"
      },
      "execution_count": null,
      "outputs": [
        {
          "output_type": "stream",
          "name": "stderr",
          "text": [
            "/usr/local/lib/python3.7/dist-packages/seaborn/_decorators.py:43: FutureWarning: Pass the following variable as a keyword arg: x. From version 0.12, the only valid positional argument will be `data`, and passing other arguments without an explicit keyword will result in an error or misinterpretation.\n",
            "  FutureWarning\n"
          ]
        },
        {
          "output_type": "execute_result",
          "data": {
            "text/plain": [
              "<matplotlib.axes._subplots.AxesSubplot at 0x7f56e3858fd0>"
            ]
          },
          "metadata": {},
          "execution_count": 11
        },
        {
          "output_type": "display_data",
          "data": {
            "text/plain": [
              "<Figure size 432x288 with 1 Axes>"
            ],
            "image/png": "[encoded data removed]"
          },
          "metadata": {
            "needs_background": "light"
          }
        }
      ]
    },
    {
      "cell_type": "code",
      "source": [
        "## Visualizing the number of class and counts in the datasets\n",
        "\n",
        "plt.plot(figure = (16,10))\n",
        "g = sns.countplot( train_data[\"label\"], palette = 'icefire')\n",
        "plt.title('NUmber of digit classes')\n",
        "train_data.label.astype('category').value_counts()"
      ],
      "metadata": {
        "colab": {
          "base_uri": "https://localhost:8080/",
          "height": 541
        },
        "id": "X0nDwK0iU0S_",
        "outputId": "aa6657d4-7b2d-415a-99cb-f154d30cf4b0"
      },
      "execution_count": null,
      "outputs": [
        {
          "output_type": "stream",
          "name": "stderr",
          "text": [
            "/usr/local/lib/python3.7/dist-packages/seaborn/_decorators.py:43: FutureWarning: Pass the following variable as a keyword arg: x. From version 0.12, the only valid positional argument will be `data`, and passing other arguments without an explicit keyword will result in an error or misinterpretation.\n",
            "  FutureWarning\n"
          ]
        },
        {
          "output_type": "execute_result",
          "data": {
            "text/plain": [
              "1    4684\n",
              "7    4401\n",
              "3    4351\n",
              "9    4188\n",
              "2    4177\n",
              "6    4137\n",
              "0    4132\n",
              "4    4072\n",
              "8    4063\n",
              "5    3795\n",
              "Name: label, dtype: int64"
            ]
          },
          "metadata": {},
          "execution_count": 12
        },
        {
          "output_type": "display_data",
          "data": {
            "text/plain": [
              "<Figure size 432x288 with 1 Axes>"
            ],
            "image/png": "[encoded data removed]"
          },
          "metadata": {
            "needs_background": "light"
          }
        }
      ]
    },
    {
      "cell_type": "markdown",
      "source": [
        "#111\n"
      ],
      "metadata": {
        "id": "5KlXUZvNUsBv"
      }
    },
    {
      "cell_type": "code",
      "source": [
        "# Plotting some samples as well as converting into matrix\n",
        "\n",
        "four = train_data.iloc[3, 1:]\n",
        "four.shape\n",
        "\n",
        "four = four.values.reshape(28,28)\n",
        "plt.imshow(four, cmap='gray')\n",
        "plt.title(\"Digit 4\")"
      ],
      "metadata": {
        "colab": {
          "base_uri": "https://localhost:8080/",
          "height": 298
        },
        "id": "cg8T6WxXUFCM",
        "outputId": "824e6ba2-2f94-4e82-c439-89b2f49b55fc"
      },
      "execution_count": null,
      "outputs": [
        {
          "output_type": "execute_result",
          "data": {
            "text/plain": [
              "Text(0.5, 1.0, 'Digit 4')"
            ]
          },
          "metadata": {},
          "execution_count": 12
        },
        {
          "output_type": "display_data",
          "data": {
            "text/plain": [
              "<Figure size 432x288 with 1 Axes>"
            ],
            "image/png": "[encoded data removed]"
          },
          "metadata": {
            "needs_background": "light"
          }
        }
      ]
    },
    {
      "cell_type": "code",
      "source": [
        "seven = train_data.iloc[6, 1:]\n",
        "seven.shape\n",
        "seven = seven.values.reshape(28, 28)\n",
        "plt.imshow(seven, cmap='gray')\n",
        "plt.title(\"Digit 7\")"
      ],
      "metadata": {
        "colab": {
          "base_uri": "https://localhost:8080/",
          "height": 298
        },
        "id": "xdwCHLC9mAw5",
        "outputId": "c026abe9-08a8-45c1-fe5b-d89682f22849"
      },
      "execution_count": null,
      "outputs": [
        {
          "output_type": "execute_result",
          "data": {
            "text/plain": [
              "Text(0.5, 1.0, 'Digit 7')"
            ]
          },
          "metadata": {},
          "execution_count": 13
        },
        {
          "output_type": "display_data",
          "data": {
            "text/plain": [
              "<Figure size 432x288 with 1 Axes>"
            ],
            "image/png": "[encoded data removed]"
          },
          "metadata": {
            "needs_background": "light"
          }
        }
      ]
    },
    {
      "cell_type": "code",
      "source": [
        "zero = train_data.iloc[1, 1:]\n",
        "zero.shape\n",
        "zero = zero.values.reshape(28, 28)\n",
        "plt.imshow(zero, cmap='gray')\n",
        "plt.title(\"Digit 0\")"
      ],
      "metadata": {
        "colab": {
          "base_uri": "https://localhost:8080/",
          "height": 298
        },
        "id": "ht1T_IQgVE5H",
        "outputId": "80751ca9-edfd-49e4-e7d4-72ca14662a5e"
      },
      "execution_count": null,
      "outputs": [
        {
          "output_type": "execute_result",
          "data": {
            "text/plain": [
              "Text(0.5, 1.0, 'Digit 0')"
            ]
          },
          "metadata": {},
          "execution_count": 14
        },
        {
          "output_type": "display_data",
          "data": {
            "text/plain": [
              "<Figure size 432x288 with 1 Axes>"
            ],
            "image/png": "[encoded data removed]"
          },
          "metadata": {
            "needs_background": "light"
          }
        }
      ]
    },
    {
      "cell_type": "code",
      "source": [
        "plt.gray() # B/W Images\n",
        "plt.figure(figsize = (10,9)) # Adjusting figure size\n",
        "\n",
        "for i in range(9):\n",
        "  plt.subplot(3,3,i+1)\n",
        "  a = train_data.iloc[i+1, 1:]\n",
        "  a = a.values.reshape(28,28)\n",
        "  plt.imshow(a, cmap='gray')"
      ],
      "metadata": {
        "colab": {
          "base_uri": "https://localhost:8080/",
          "height": 556
        },
        "id": "pWe-zT3CVq94",
        "outputId": "8644f005-052f-488a-caf2-d00961b5f1ea"
      },
      "execution_count": null,
      "outputs": [
        {
          "output_type": "display_data",
          "data": {
            "text/plain": [
              "<Figure size 432x288 with 0 Axes>"
            ]
          },
          "metadata": {}
        },
        {
          "output_type": "display_data",
          "data": {
            "text/plain": [
              "<Figure size 720x648 with 9 Axes>"
            ],
            "image/png": "[encoded data removed]"
          },
          "metadata": {
            "needs_background": "light"
          }
        }
      ]
    },
    {
      "cell_type": "code",
      "source": [
        "# visualise the array\n",
        "print(four[5:-5, 5:-5])"
      ],
      "metadata": {
        "colab": {
          "base_uri": "https://localhost:8080/"
        },
        "id": "UjjV6BRmUKXl",
        "outputId": "e38d7205-4972-48bb-bd13-526ff3c18954"
      },
      "execution_count": null,
      "outputs": [
        {
          "output_type": "stream",
          "name": "stdout",
          "text": [
            "[[  0 220 179   6   0   0   0   0   0   0   0   0   9  77   0   0   0   0]\n",
            " [  0  28 247  17   0   0   0   0   0   0   0   0  27 202   0   0   0   0]\n",
            " [  0   0 242 155   0   0   0   0   0   0   0   0  27 254  63   0   0   0]\n",
            " [  0   0 160 207   6   0   0   0   0   0   0   0  27 254  65   0   0   0]\n",
            " [  0   0 127 254  21   0   0   0   0   0   0   0  20 239  65   0   0   0]\n",
            " [  0   0  77 254  21   0   0   0   0   0   0   0   0 195  65   0   0   0]\n",
            " [  0   0  70 254  21   0   0   0   0   0   0   0   0 195 142   0   0   0]\n",
            " [  0   0  56 251  21   0   0   0   0   0   0   0   0 195 227   0   0   0]\n",
            " [  0   0   0 222 153   5   0   0   0   0   0   0   0 120 240  13   0   0]\n",
            " [  0   0   0  67 251  40   0   0   0   0   0   0   0  94 255  69   0   0]\n",
            " [  0   0   0   0 234 184   0   0   0   0   0   0   0  19 245  69   0   0]\n",
            " [  0   0   0   0 234 169   0   0   0   0   0   0   0   3 199 182  10   0]\n",
            " [  0   0   0   0 154 205   4   0   0  26  72 128 203 208 254 254 131   0]\n",
            " [  0   0   0   0  61 254 129 113 186 245 251 189  75  56 136 254  73   0]\n",
            " [  0   0   0   0  15 216 233 233 159 104  52   0   0   0  38 254  73   0]\n",
            " [  0   0   0   0   0   0   0   0   0   0   0   0   0   0  18 254  73   0]\n",
            " [  0   0   0   0   0   0   0   0   0   0   0   0   0   0  18 254  73   0]\n",
            " [  0   0   0   0   0   0   0   0   0   0   0   0   0   0   5 206 106   0]]\n"
          ]
        }
      ]
    },
    {
      "cell_type": "code",
      "source": [
        "print(seven[5:-5, 5:-5])"
      ],
      "metadata": {
        "colab": {
          "base_uri": "https://localhost:8080/"
        },
        "id": "1BT5Cnfwo9ix",
        "outputId": "efcb032a-e189-4a47-dd2f-98b3da4c8137"
      },
      "execution_count": null,
      "outputs": [
        {
          "output_type": "stream",
          "name": "stdout",
          "text": [
            "[[  0   0   0   0   0   0   0   0   0   0   0   0   0   0   0   0   0   0]\n",
            " [  0   0   0   0   0   0   0   0   0   0   0   0   0   0   0   0   0   0]\n",
            " [  0  82 152  71  51  51  21  41  51  51  51  51 113 193 152  30   0   0]\n",
            " [  0 122 253 252 253 252 223 243 253 252 253 252 253 252 233  30   0   0]\n",
            " [  0 123 102  41 102 102 102 102 102 102 102 162 254 253 142   0   0   0]\n",
            " [  0 203 102   0   0   0   0   0   0   0   0 183 253 212  20   0   0   0]\n",
            " [  0 203 142   0   0   0   0   0   0   0  11 213 254  91   0   0   0   0]\n",
            " [ 41 243 102   0   0   0   0   0   0   0  51 252 172  10   0   0   0   0]\n",
            " [ 41 223 102   0   0   0   0   0   0   0 214 253 102   0   0   0   0   0]\n",
            " [  0  20  20   0   0   0   0   0   0   0 253 252 102   0   0   0   0   0]\n",
            " [  0   0   0   0   0   0   0   0   0  62 254 253  41   0   0   0   0   0]\n",
            " [  0   0   0   0   0   0   0   0   0 102 253 171   0   0   0   0   0   0]\n",
            " [  0   0   0   0   0   0   0   0   0 163 254  91   0   0   0   0   0   0]\n",
            " [  0   0   0   0   0   0   0   0   0 203 253  50   0   0   0   0   0   0]\n",
            " [  0   0   0   0   0   0   0   0  51 253 254  50   0   0   0   0   0   0]\n",
            " [  0   0   0   0   0   0   0   0  51 252 253  50   0   0   0   0   0   0]\n",
            " [  0   0   0   0   0   0   0   0  51 253 254  50   0   0   0   0   0   0]\n",
            " [  0   0   0   0   0   0   0   0  51 252 213  10   0   0   0   0   0   0]]\n"
          ]
        }
      ]
    },
    {
      "cell_type": "code",
      "source": [
        "print(zero[5:-5, 5:-5])"
      ],
      "metadata": {
        "colab": {
          "base_uri": "https://localhost:8080/"
        },
        "id": "gxLQ5hF6XCSx",
        "outputId": "8cdca47d-a4a3-44c2-de9f-cb9418aba4c7"
      },
      "execution_count": null,
      "outputs": [
        {
          "output_type": "stream",
          "name": "stdout",
          "text": [
            "[[  0   0   0  13  86 250 254 254 254 254 217 246 151  32   0   0   0   0]\n",
            " [  0   0  16 179 254 254 254 254 254 254 254 254 254 231  54  15   0   0]\n",
            " [  0   0  72 254 254 254 254 254 254 254 254 254 254 254 254 104   0   0]\n",
            " [  0  61 191 254 254 254 254 254 109  83 199 254 254 254 254 243  85   0]\n",
            " [  0 172 254 254 254 202 147 147  45   0  11  29 200 254 254 254 171   0]\n",
            " [  1 174 254 254  89  67   0   0   0   0   0   0 128 252 254 254 212  76]\n",
            " [ 47 254 254 254  29   0   0   0   0   0   0   0   0  83 254 254 254 153]\n",
            " [ 80 254 254 240  24   0   0   0   0   0   0   0   0  25 240 254 254 153]\n",
            " [ 64 254 254 186   7   0   0   0   0   0   0   0   0   0 166 254 254 224]\n",
            " [232 254 254 254  29   0   0   0   0   0   0   0   0   0  75 254 254 254]\n",
            " [254 254 254 254  29   0   0   0   0   0   0   0   0   0  48 254 254 254]\n",
            " [163 254 254 254  29   0   0   0   0   0   0   0   0   0  48 254 254 254]\n",
            " [ 94 254 254 254 200  12   0   0   0   0   0   0   0  16 209 254 254 150]\n",
            " [ 15 206 254 254 254 202  66   0   0   0   0   0  21 161 254 254 245  31]\n",
            " [  0  60 212 254 254 254 194  48  48  34  41  48 209 254 254 254 171   0]\n",
            " [  0   0  86 243 254 254 254 254 254 233 243 254 254 254 254 254  86   0]\n",
            " [  0   0   0 114 254 254 254 254 254 254 254 254 254 254 239  86  11   0]\n",
            " [  0   0   0  13 182 254 254 254 254 254 254 254 254 243  70   0   0   0]]\n"
          ]
        }
      ]
    },
    {
      "cell_type": "markdown",
      "source": [
        "#Data Preparation**\n",
        "\n",
        "Let's conduct some data preparation steps before modeling. Firstly, let's see if it is important to rescale the features, since they may have varying ranges."
      ],
      "metadata": {
        "id": "fMI2BUBgYx5h"
      }
    },
    {
      "cell_type": "code",
      "source": [
        "# average feature values\n",
        "round(train_data.drop('label', axis=1).mean(), 2)"
      ],
      "metadata": {
        "colab": {
          "base_uri": "https://localhost:8080/"
        },
        "id": "hYTapMGgY3LQ",
        "outputId": "aab0872e-9fe5-48f2-a0b9-110132775cb5"
      },
      "execution_count": null,
      "outputs": [
        {
          "output_type": "execute_result",
          "data": {
            "text/plain": [
              "pixel0      0.0\n",
              "pixel1      0.0\n",
              "pixel2      0.0\n",
              "pixel3      0.0\n",
              "pixel4      0.0\n",
              "           ... \n",
              "pixel779    0.0\n",
              "pixel780    0.0\n",
              "pixel781    0.0\n",
              "pixel782    0.0\n",
              "pixel783    0.0\n",
              "Length: 784, dtype: float64"
            ]
          },
          "metadata": {},
          "execution_count": 13
        }
      ]
    },
    {
      "cell_type": "code",
      "source": [
        "## Separating the X and Y variable\n",
        "\n",
        "y = train_data['label']\n",
        "\n",
        "## Dropping the variable 'label' from X variable \n",
        "X = train_data.drop(columns = 'label')\n",
        "\n",
        "## Printing the size of data \n",
        "print(train_data.shape)"
      ],
      "metadata": {
        "colab": {
          "base_uri": "https://localhost:8080/"
        },
        "id": "yYCTR8WDY5k3",
        "outputId": "a7bc0ca7-9ee9-4dac-b4d0-dfae53596501"
      },
      "execution_count": null,
      "outputs": [
        {
          "output_type": "stream",
          "name": "stdout",
          "text": [
            "(42000, 785)\n"
          ]
        }
      ]
    },
    {
      "cell_type": "code",
      "source": [
        "## Normalization\n",
        "\n",
        "X_nor = X/255.0\n",
        "test_data_nor = test_data/255.0\n",
        "\n",
        "print(\"X:\", X_nor.shape)\n",
        "print(\"test_data:\", test_data_nor.shape)"
      ],
      "metadata": {
        "colab": {
          "base_uri": "https://localhost:8080/"
        },
        "id": "2eQQGV4OZA7Q",
        "outputId": "706e65f7-88dd-41a8-acc8-6f71fae43109"
      },
      "execution_count": null,
      "outputs": [
        {
          "output_type": "stream",
          "name": "stdout",
          "text": [
            "X: (42000, 784)\n",
            "test_data: (28000, 784)\n"
          ]
        }
      ]
    },
    {
      "cell_type": "code",
      "source": [
        "## Non-Normalize\n",
        "\n",
        "X_non = X\n",
        "test_data_non = test_data\n",
        "\n",
        "print(\"X_non:\", X_non.shape)\n",
        "print(\"test_data_non:\", test_data_non.shape)"
      ],
      "metadata": {
        "colab": {
          "base_uri": "https://localhost:8080/"
        },
        "id": "KuyrpuMzdaLG",
        "outputId": "98926a4e-a3a4-440a-c6c1-6df39266cf57"
      },
      "execution_count": null,
      "outputs": [
        {
          "output_type": "stream",
          "name": "stdout",
          "text": [
            "X_non: (42000, 784)\n",
            "test_data_non: (28000, 784)\n"
          ]
        }
      ]
    },
    {
      "cell_type": "code",
      "source": [
        "# scaling the features\n",
        "from sklearn.preprocessing import scale\n",
        "X_scaled = scale(X_nor)\n",
        "\n",
        "# train test split\n",
        "X_train, X_test, y_train, y_test = train_test_split(X_scaled, y, test_size = 0.3, train_size = 0.2 ,random_state = 10)\n",
        "print(X_train.shape)\n",
        "print(X_test.shape)\n",
        "print(y_train.shape)\n",
        "print(y_test.shape)"
      ],
      "metadata": {
        "colab": {
          "base_uri": "https://localhost:8080/"
        },
        "id": "ki2Wi2l-ZOOo",
        "outputId": "bb5f2f1a-8eb2-4a25-e16a-6181e69c6250"
      },
      "execution_count": null,
      "outputs": [
        {
          "output_type": "stream",
          "name": "stdout",
          "text": [
            "(8400, 784)\n",
            "(12600, 784)\n",
            "(8400,)\n",
            "(12600,)\n"
          ]
        }
      ]
    },
    {
      "cell_type": "code",
      "source": [
        "print(type(X_train))\n",
        "print(type(X_test))\n",
        "print(type(y_train))\n",
        "print(type(y_test))"
      ],
      "metadata": {
        "colab": {
          "base_uri": "https://localhost:8080/"
        },
        "id": "aSxxAjjFtuoH",
        "outputId": "da81d0da-039c-4a4a-b395-87e547515a63"
      },
      "execution_count": null,
      "outputs": [
        {
          "output_type": "stream",
          "name": "stdout",
          "text": [
            "<class 'numpy.ndarray'>\n",
            "<class 'numpy.ndarray'>\n",
            "<class 'pandas.core.series.Series'>\n",
            "<class 'pandas.core.series.Series'>\n"
          ]
        }
      ]
    },
    {
      "cell_type": "code",
      "source": [
        "# scaling the features with non-normalize\n",
        "from sklearn.preprocessing import scale\n",
        "X_scaled_non = scale(X_non)\n",
        "\n",
        "# train test split\n",
        "X_train_non, X_test_non, y_train_non, y_test_non = train_test_split(X_scaled_non, y, test_size = 0.3, train_size = 0.2 ,random_state = 10)\n",
        "print(X_train.shape)\n",
        "print(X_test.shape)\n",
        "print(y_train.shape)\n",
        "print(y_test.shape)"
      ],
      "metadata": {
        "colab": {
          "base_uri": "https://localhost:8080/"
        },
        "id": "10IidF3NduCf",
        "outputId": "bd2e4468-0556-45d6-a3f8-8a4cf08602e6"
      },
      "execution_count": null,
      "outputs": [
        {
          "output_type": "stream",
          "name": "stdout",
          "text": [
            "(8400, 784)\n",
            "(12600, 784)\n",
            "(8400,)\n",
            "(12600,)\n"
          ]
        }
      ]
    },
    {
      "cell_type": "markdown",
      "source": [
        "#Model Building**\n",
        "\n",
        "Let's fist build two basic models - linear and non-linear with default hyperparameters, and compare the accuracies."
      ],
      "metadata": {
        "id": "wKY3_WS2Ze0h"
      }
    },
    {
      "cell_type": "code",
      "source": [
        "import itertools\n",
        "\n",
        "def plot_confusion_matrix(cm,classes,normalize = False, title = 'Confusion Matrix', cmap=plt.cm.Blues):\n",
        "  if normalize:\n",
        "    cm = cm.astype('float')/ cm.sum(axis = 1)[:, np.newaxis]\n",
        "    print(\"Normalize Confusion Matrix\")\n",
        "  else:\n",
        "    print('Confusion matrix, without normalization')\n",
        "\n",
        "    print(cm)\n",
        "\n",
        "    plt.imshow(cm, interpolation='nearest', cmap=cmap)\n",
        "    plt.title(title)\n",
        "    plt.colorbar()\n",
        "    tick_marks = np.arange(len(classes))\n",
        "    plt.xticks(tick_marks,classes)\n",
        "    plt.yticks(tick_marks,classes)\n",
        "\n",
        "    fmt = '.2f' if normalize else 'd'\n",
        "    thresh = cm.max() /2.\n",
        "    for i, j in itertools.product(range(cm.shape[0]), range(cm.shape[1])):\n",
        "      plt.text(j,i, format(cm[i, j], fmt),\n",
        "               horizontalalignment = \"center\",\n",
        "               color = \"white\" if cm[i,j] > thresh else \"black\")\n",
        "    plt.tight_layout()\n",
        "    plt.ylabel('True Label')\n",
        "    plt.xlabel(' Predicted Label')"
      ],
      "metadata": {
        "id": "Pqrd8dTWo4j-"
      },
      "execution_count": null,
      "outputs": []
    },
    {
      "cell_type": "markdown",
      "source": [
        "#Linear SVM\n",
        "\n",
        "Let's first try building a linear SVM model (i.e. a linear kernel)."
      ],
      "metadata": {
        "id": "dMGgEBqV3RBZ"
      }
    },
    {
      "cell_type": "markdown",
      "source": [
        "With normalize data"
      ],
      "metadata": {
        "id": "7A2oQ-pTeIfU"
      }
    },
    {
      "cell_type": "code",
      "source": [
        "from sklearn import svm\n",
        "from sklearn import metrics\n",
        "\n",
        "# an initial SVM model with linear kernel   \n",
        "svm_linear = svm.SVC(kernel='linear')\n",
        "\n",
        "# fit\n",
        "svm_linear.fit(X_train, y_train)"
      ],
      "metadata": {
        "colab": {
          "base_uri": "https://localhost:8080/"
        },
        "id": "SiSgD-8xjtYR",
        "outputId": "2da53847-f3dd-445f-fd9c-61799d2045c9"
      },
      "execution_count": null,
      "outputs": [
        {
          "output_type": "execute_result",
          "data": {
            "text/plain": [
              "SVC(kernel='linear')"
            ]
          },
          "metadata": {},
          "execution_count": 20
        }
      ]
    },
    {
      "cell_type": "code",
      "source": [
        "# predict\n",
        "y_pred = svm_linear.predict(X_test)"
      ],
      "metadata": {
        "id": "o1c10JSJaD8J"
      },
      "execution_count": null,
      "outputs": []
    },
    {
      "cell_type": "code",
      "source": [
        "y_pred[:10]"
      ],
      "metadata": {
        "colab": {
          "base_uri": "https://localhost:8080/"
        },
        "id": "F1SRIwjeaO2A",
        "outputId": "219ec380-3377-4eca-b5a0-93ef88b822d4"
      },
      "execution_count": null,
      "outputs": [
        {
          "output_type": "execute_result",
          "data": {
            "text/plain": [
              "array([7, 3, 9, 8, 6, 9, 7, 7, 4, 6])"
            ]
          },
          "metadata": {},
          "execution_count": 22
        }
      ]
    },
    {
      "cell_type": "code",
      "source": [
        "# confusion matrix and accuracy\n",
        "\n",
        "from sklearn import metrics\n",
        "from sklearn.metrics import confusion_matrix\n",
        "# accuracy\n",
        "print(\"accuracy:\", metrics.accuracy_score(y_true=y_test, y_pred=y_pred), \"\\n\")\n",
        "\n",
        "# cm\n",
        "cm = (metrics.confusion_matrix(y_true=y_test, y_pred=y_pred))\n",
        "\n",
        "plot_confusion_matrix(cm,[\"0\",\"1\",\"2\",\"3\",\"4\",\"5\",\"6\",\"7\",\"8\",\"9\"], normalize = False)\n"
      ],
      "metadata": {
        "colab": {
          "base_uri": "https://localhost:8080/",
          "height": 537
        },
        "id": "MswaELPZaUFZ",
        "outputId": "4c721d85-795b-40a1-caba-8ddd506f7830"
      },
      "execution_count": null,
      "outputs": [
        {
          "output_type": "stream",
          "name": "stdout",
          "text": [
            "accuracy: 0.9133333333333333 \n",
            "\n",
            "Confusion matrix, without normalization\n",
            "[[1160    0    0    1    6    6   12    1    1    1]\n",
            " [   0 1389    3    4    3    0    0    2   12    0]\n",
            " [   9   11 1146   38   11    4   10   12   17    2]\n",
            " [   5    4   35 1204    0   51    2    3   21    6]\n",
            " [   3    3   20    3 1132    1   10    4    2   40]\n",
            " [   9   17   10   67    7  997   14    2   19    7]\n",
            " [  15    2   15    0    9   15 1160    1    2    0]\n",
            " [   5   12   18    9   26    2    1 1212    3   42]\n",
            " [   8   31   24   45    8   61    9   14 1002   15]\n",
            " [   9    6    7   28   56    3    0   53    7 1106]]\n"
          ]
        },
        {
          "output_type": "display_data",
          "data": {
            "text/plain": [
              "<Figure size 432x288 with 2 Axes>"
            ],
            "image/png": "[encoded data removed]"
          },
          "metadata": {
            "needs_background": "light"
          }
        }
      ]
    },
    {
      "cell_type": "markdown",
      "source": [
        "With non-normalize data"
      ],
      "metadata": {
        "id": "JLRqKL6neMXW"
      }
    },
    {
      "cell_type": "code",
      "source": [
        "# an initial SVM model with linear kernel   \n",
        "svm_linear_non = svm.SVC(kernel='linear')\n",
        "\n",
        "# fit\n",
        "svm_linear_non.fit(X_train_non, y_train_non)"
      ],
      "metadata": {
        "colab": {
          "base_uri": "https://localhost:8080/"
        },
        "id": "rUQgprIXeHyO",
        "outputId": "6f821fcd-4870-44df-d74b-73e05d834dcd"
      },
      "execution_count": null,
      "outputs": [
        {
          "output_type": "execute_result",
          "data": {
            "text/plain": [
              "SVC(kernel='linear')"
            ]
          },
          "metadata": {},
          "execution_count": 30
        }
      ]
    },
    {
      "cell_type": "code",
      "source": [
        "# predict\n",
        "y_pred_non = svm_linear.predict(X_test_non)"
      ],
      "metadata": {
        "id": "ftpTWU7Dela-"
      },
      "execution_count": null,
      "outputs": []
    },
    {
      "cell_type": "code",
      "source": [
        "y_pred[:10]"
      ],
      "metadata": {
        "colab": {
          "base_uri": "https://localhost:8080/"
        },
        "id": "0iPrf7MiescG",
        "outputId": "f868d169-890b-44f2-d146-f0e370957b2c"
      },
      "execution_count": null,
      "outputs": [
        {
          "output_type": "execute_result",
          "data": {
            "text/plain": [
              "array([7, 3, 9, 8, 6, 9, 7, 7, 4, 6])"
            ]
          },
          "metadata": {},
          "execution_count": 32
        }
      ]
    },
    {
      "cell_type": "code",
      "source": [
        "# accuracy\n",
        "print(\"accuracy:\", metrics.accuracy_score(y_true=y_test_non, y_pred=y_pred_non), \"\\n\")\n",
        "\n",
        "# cm\n",
        "cm = (metrics.confusion_matrix(y_true=y_test_non, y_pred=y_pred_non))\n",
        "\n",
        "plot_confusion_matrix(cm,[\"0\",\"1\",\"2\",\"3\",\"4\",\"5\",\"6\",\"7\",\"8\",\"9\"], normalize = False)"
      ],
      "metadata": {
        "colab": {
          "base_uri": "https://localhost:8080/",
          "height": 537
        },
        "id": "iJzTa0r5evWf",
        "outputId": "a4cd323e-85cb-44af-ba70-6fe7e8404875"
      },
      "execution_count": null,
      "outputs": [
        {
          "output_type": "stream",
          "name": "stdout",
          "text": [
            "accuracy: 0.9133333333333333 \n",
            "\n",
            "Confusion matrix, without normalization\n",
            "[[1160    0    0    1    6    6   12    1    1    1]\n",
            " [   0 1389    3    4    3    0    0    2   12    0]\n",
            " [   9   11 1146   38   11    4   10   12   17    2]\n",
            " [   5    4   35 1204    0   51    2    3   21    6]\n",
            " [   3    3   20    3 1132    1   10    4    2   40]\n",
            " [   9   17   10   67    7  997   14    2   19    7]\n",
            " [  15    2   15    0    9   15 1160    1    2    0]\n",
            " [   5   12   18    9   26    2    1 1212    3   42]\n",
            " [   8   31   24   45    8   61    9   14 1002   15]\n",
            " [   9    6    7   28   56    3    0   53    7 1106]]\n"
          ]
        },
        {
          "output_type": "display_data",
          "data": {
            "text/plain": [
              "<Figure size 432x288 with 2 Axes>"
            ],
            "image/png": "[encoded data removed]"
          },
          "metadata": {
            "needs_background": "light"
          }
        }
      ]
    },
    {
      "cell_type": "markdown",
      "source": [
        "#Non-Linear SVM\n",
        "\n",
        "Let's now try a non-linear model with the RBF kernel."
      ],
      "metadata": {
        "id": "lXYBD3Eh3c8B"
      }
    },
    {
      "cell_type": "code",
      "source": [
        "# rbf kernel with other hyperparameters kept to default \n",
        "non_linear_model = svm.SVC(kernel='rbf')\n",
        "\n",
        "non_linear_model.fit(X_train, y_train)"
      ],
      "metadata": {
        "colab": {
          "base_uri": "https://localhost:8080/"
        },
        "id": "oWXXilc5atGZ",
        "outputId": "57912be8-52d3-4c3c-b965-cff987eb0389"
      },
      "execution_count": null,
      "outputs": [
        {
          "output_type": "execute_result",
          "data": {
            "text/plain": [
              "SVC()"
            ]
          },
          "metadata": {},
          "execution_count": 34
        }
      ]
    },
    {
      "cell_type": "code",
      "source": [
        "# predict\n",
        "y_pred = non_linear_model.predict(X_test)\n",
        "y_pred[:10]"
      ],
      "metadata": {
        "colab": {
          "base_uri": "https://localhost:8080/"
        },
        "id": "Nkj9XPpja6j6",
        "outputId": "18c85904-c2e1-4e28-90cd-6a5e63246840"
      },
      "execution_count": null,
      "outputs": [
        {
          "output_type": "execute_result",
          "data": {
            "text/plain": [
              "array([7, 3, 9, 8, 6, 9, 7, 7, 4, 6])"
            ]
          },
          "metadata": {},
          "execution_count": 35
        }
      ]
    },
    {
      "cell_type": "code",
      "source": [
        "# confusion matrix and accuracy\n",
        "\n",
        "# accuracy\n",
        "print(\"accuracy:\", metrics.accuracy_score(y_true=y_test, y_pred=y_pred), \"\\n\")\n",
        "\n",
        "# cm\n",
        "cm = (metrics.confusion_matrix(y_true=y_test, y_pred=y_pred))\n",
        "\n",
        "plot_confusion_matrix(cm,[\"0\",\"1\",\"2\",\"3\",\"4\",\"5\",\"6\",\"7\",\"8\",\"9\"], normalize = False)"
      ],
      "metadata": {
        "colab": {
          "base_uri": "https://localhost:8080/",
          "height": 537
        },
        "id": "EiiYUg6SbK9p",
        "outputId": "a904bebf-8386-463b-8429-059f68e7a914"
      },
      "execution_count": null,
      "outputs": [
        {
          "output_type": "stream",
          "name": "stdout",
          "text": [
            "accuracy: 0.9348412698412698 \n",
            "\n",
            "Confusion matrix, without normalization\n",
            "[[1156    0    5    1    0    2   12    6    5    1]\n",
            " [   0 1389    4    3    4    0    2    6    5    0]\n",
            " [   2    4 1170   19    5    0    9   35   15    1]\n",
            " [   1    4   19 1237    0   20    2   32   13    3]\n",
            " [   0    4   25    0 1133    0    9   17    3   27]\n",
            " [   1    9    5   42    3 1047   17   11    8    6]\n",
            " [  13    2    5    0    2   15 1156   24    2    0]\n",
            " [   3   10    9    3   15    0    0 1256    1   33]\n",
            " [   5   19   14   25    7   21    8   15 1095    8]\n",
            " [   4    4    6   30   23    2    1   61    4 1140]]\n"
          ]
        },
        {
          "output_type": "display_data",
          "data": {
            "text/plain": [
              "<Figure size 432x288 with 2 Axes>"
            ],
            "image/png": "[encoded data removed]"
          },
          "metadata": {
            "needs_background": "light"
          }
        }
      ]
    },
    {
      "cell_type": "markdown",
      "source": [
        "#Grid Search: Hyperparameter Tuning\n",
        "\n",
        "Let's now tune the model to find the optimal values of C and gamma corresponding to an RBF kernel. We'll use 5-fold cross validation."
      ],
      "metadata": {
        "id": "Oyjw-Tm0bYPh"
      }
    },
    {
      "cell_type": "code",
      "source": [
        "from sklearn.model_selection import KFold\n",
        "\n",
        "# creating a KFold object with 5 splits \n",
        "folds = KFold(n_splits = 5, shuffle = True, random_state = 10)\n",
        "\n",
        "# specify range of hyperparameters\n",
        "# Set the parameters by cross-validation\n",
        "hyper_params = [ {'gamma': [1e-2, 1e-3, 1e-4],\n",
        "                     'C': [5,10]}]\n",
        "\n",
        "\n",
        "# specify model\n",
        "model = SVC(kernel=\"rbf\")\n",
        "\n",
        "# set up GridSearchCV()\n",
        "model_cv = GridSearchCV(estimator = model, \n",
        "                        param_grid = hyper_params, \n",
        "                        scoring= 'accuracy', \n",
        "                        cv = folds, \n",
        "                        verbose = 1,\n",
        "                        return_train_score=True)      \n",
        "\n",
        "# fit the model\n",
        "model_cv.fit(X_train, y_train)"
      ],
      "metadata": {
        "colab": {
          "base_uri": "https://localhost:8080/"
        },
        "id": "gmIwKznFbU85",
        "outputId": "fdf2f14f-c20f-4281-9572-9073962fba33"
      },
      "execution_count": null,
      "outputs": [
        {
          "output_type": "stream",
          "name": "stdout",
          "text": [
            "Fitting 5 folds for each of 6 candidates, totalling 30 fits\n"
          ]
        },
        {
          "output_type": "execute_result",
          "data": {
            "text/plain": [
              "GridSearchCV(cv=KFold(n_splits=5, random_state=10, shuffle=True),\n",
              "             estimator=SVC(),\n",
              "             param_grid=[{'C': [5, 10], 'gamma': [0.01, 0.001, 0.0001]}],\n",
              "             return_train_score=True, scoring='accuracy', verbose=1)"
            ]
          },
          "metadata": {},
          "execution_count": 41
        }
      ]
    },
    {
      "cell_type": "code",
      "source": [
        "# cv results\n",
        "cv_results = pd.DataFrame(model_cv.cv_results_)\n",
        "cv_results"
      ],
      "metadata": {
        "colab": {
          "base_uri": "https://localhost:8080/",
          "height": 539
        },
        "id": "qGwFlb0tddqC",
        "outputId": "ee81aee0-dd8f-4102-971f-2f133a9bccf1"
      },
      "execution_count": null,
      "outputs": [
        {
          "output_type": "execute_result",
          "data": {
            "text/plain": [
              "   mean_fit_time  std_fit_time  mean_score_time  std_score_time param_C  \\\n",
              "0      24.843294      0.101863         8.127306        0.089533       5   \n",
              "1       5.142017      0.029398         4.275874        0.060667       5   \n",
              "2       4.764080      0.026330         4.291477        0.289251       5   \n",
              "3      24.840463      0.090693         8.184612        0.040115      10   \n",
              "4       5.143305      0.047553         3.994054        0.269924      10   \n",
              "5       3.971116      0.046491         3.896980        0.089018      10   \n",
              "\n",
              "  param_gamma                      params  split0_test_score  \\\n",
              "0        0.01     {'C': 5, 'gamma': 0.01}           0.755357   \n",
              "1       0.001    {'C': 5, 'gamma': 0.001}           0.936310   \n",
              "2      0.0001   {'C': 5, 'gamma': 0.0001}           0.914286   \n",
              "3        0.01    {'C': 10, 'gamma': 0.01}           0.755357   \n",
              "4       0.001   {'C': 10, 'gamma': 0.001}           0.933929   \n",
              "5      0.0001  {'C': 10, 'gamma': 0.0001}           0.911310   \n",
              "\n",
              "   split1_test_score  split2_test_score  ...  mean_test_score  std_test_score  \\\n",
              "0           0.757143           0.779167  ...         0.766667        0.011536   \n",
              "1           0.945238           0.946429  ...         0.944524        0.004508   \n",
              "2           0.925595           0.922024  ...         0.922976        0.007169   \n",
              "3           0.757143           0.779167  ...         0.766667        0.011536   \n",
              "4           0.945238           0.947024  ...         0.944881        0.005815   \n",
              "5           0.928571           0.927976  ...         0.926071        0.009278   \n",
              "\n",
              "   rank_test_score  split0_train_score  split1_train_score  \\\n",
              "0                5            1.000000            1.000000   \n",
              "1                2            0.996875            0.996577   \n",
              "2                4            0.950446            0.950893   \n",
              "3                5            1.000000            1.000000   \n",
              "4                1            0.999405            0.999405   \n",
              "5                3            0.963542            0.964137   \n",
              "\n",
              "   split2_train_score  split3_train_score  split4_train_score  \\\n",
              "0            1.000000            1.000000            1.000000   \n",
              "1            0.996429            0.996875            0.996280   \n",
              "2            0.950000            0.947768            0.947619   \n",
              "3            1.000000            1.000000            1.000000   \n",
              "4            0.999405            0.999405            0.999405   \n",
              "5            0.963839            0.961607            0.959524   \n",
              "\n",
              "   mean_train_score  std_train_score  \n",
              "0          1.000000         0.000000  \n",
              "1          0.996607         0.000238  \n",
              "2          0.949345         0.001379  \n",
              "3          1.000000         0.000000  \n",
              "4          0.999405         0.000000  \n",
              "5          0.962530         0.001744  \n",
              "\n",
              "[6 rows x 22 columns]"
            ],
            "text/html": [
              "\n",
              "  <div id=\"df-11cb88ee-69fd-4114-a528-4b4a5ad76a93\">\n",
              "    <div class=\"colab-df-container\">\n",
              "      <div>\n",
              "<style scoped>\n",
              "    .dataframe tbody tr th:only-of-type {\n",
              "        vertical-align: middle;\n",
              "    }\n",
              "\n",
              "    .dataframe tbody tr th {\n",
              "        vertical-align: top;\n",
              "    }\n",
              "\n",
              "    .dataframe thead th {\n",
              "        text-align: right;\n",
              "    }\n",
              "</style>\n",
              "<table border=\"1\" class=\"dataframe\">\n",
              "  <thead>\n",
              "    <tr style=\"text-align: right;\">\n",
              "      <th></th>\n",
              "      <th>mean_fit_time</th>\n",
              "      <th>std_fit_time</th>\n",
              "      <th>mean_score_time</th>\n",
              "      <th>std_score_time</th>\n",
              "      <th>param_C</th>\n",
              "      <th>param_gamma</th>\n",
              "      <th>params</th>\n",
              "      <th>split0_test_score</th>\n",
              "      <th>split1_test_score</th>\n",
              "      <th>split2_test_score</th>\n",
              "      <th>...</th>\n",
              "      <th>mean_test_score</th>\n",
              "      <th>std_test_score</th>\n",
              "      <th>rank_test_score</th>\n",
              "      <th>split0_train_score</th>\n",
              "      <th>split1_train_score</th>\n",
              "      <th>split2_train_score</th>\n",
              "      <th>split3_train_score</th>\n",
              "      <th>split4_train_score</th>\n",
              "      <th>mean_train_score</th>\n",
              "      <th>std_train_score</th>\n",
              "    </tr>\n",
              "  </thead>\n",
              "  <tbody>\n",
              "    <tr>\n",
              "      <th>0</th>\n",
              "      <td>24.843294</td>\n",
              "      <td>0.101863</td>\n",
              "      <td>8.127306</td>\n",
              "      <td>0.089533</td>\n",
              "      <td>5</td>\n",
              "      <td>0.01</td>\n",
              "      <td>{'C': 5, 'gamma': 0.01}</td>\n",
              "      <td>0.755357</td>\n",
              "      <td>0.757143</td>\n",
              "      <td>0.779167</td>\n",
              "      <td>...</td>\n",
              "      <td>0.766667</td>\n",
              "      <td>0.011536</td>\n",
              "      <td>5</td>\n",
              "      <td>1.000000</td>\n",
              "      <td>1.000000</td>\n",
              "      <td>1.000000</td>\n",
              "      <td>1.000000</td>\n",
              "      <td>1.000000</td>\n",
              "      <td>1.000000</td>\n",
              "      <td>0.000000</td>\n",
              "    </tr>\n",
              "    <tr>\n",
              "      <th>1</th>\n",
              "      <td>5.142017</td>\n",
              "      <td>0.029398</td>\n",
              "      <td>4.275874</td>\n",
              "      <td>0.060667</td>\n",
              "      <td>5</td>\n",
              "      <td>0.001</td>\n",
              "      <td>{'C': 5, 'gamma': 0.001}</td>\n",
              "      <td>0.936310</td>\n",
              "      <td>0.945238</td>\n",
              "      <td>0.946429</td>\n",
              "      <td>...</td>\n",
              "      <td>0.944524</td>\n",
              "      <td>0.004508</td>\n",
              "      <td>2</td>\n",
              "      <td>0.996875</td>\n",
              "      <td>0.996577</td>\n",
              "      <td>0.996429</td>\n",
              "      <td>0.996875</td>\n",
              "      <td>0.996280</td>\n",
              "      <td>0.996607</td>\n",
              "      <td>0.000238</td>\n",
              "    </tr>\n",
              "    <tr>\n",
              "      <th>2</th>\n",
              "      <td>4.764080</td>\n",
              "      <td>0.026330</td>\n",
              "      <td>4.291477</td>\n",
              "      <td>0.289251</td>\n",
              "      <td>5</td>\n",
              "      <td>0.0001</td>\n",
              "      <td>{'C': 5, 'gamma': 0.0001}</td>\n",
              "      <td>0.914286</td>\n",
              "      <td>0.925595</td>\n",
              "      <td>0.922024</td>\n",
              "      <td>...</td>\n",
              "      <td>0.922976</td>\n",
              "      <td>0.007169</td>\n",
              "      <td>4</td>\n",
              "      <td>0.950446</td>\n",
              "      <td>0.950893</td>\n",
              "      <td>0.950000</td>\n",
              "      <td>0.947768</td>\n",
              "      <td>0.947619</td>\n",
              "      <td>0.949345</td>\n",
              "      <td>0.001379</td>\n",
              "    </tr>\n",
              "    <tr>\n",
              "      <th>3</th>\n",
              "      <td>24.840463</td>\n",
              "      <td>0.090693</td>\n",
              "      <td>8.184612</td>\n",
              "      <td>0.040115</td>\n",
              "      <td>10</td>\n",
              "      <td>0.01</td>\n",
              "      <td>{'C': 10, 'gamma': 0.01}</td>\n",
              "      <td>0.755357</td>\n",
              "      <td>0.757143</td>\n",
              "      <td>0.779167</td>\n",
              "      <td>...</td>\n",
              "      <td>0.766667</td>\n",
              "      <td>0.011536</td>\n",
              "      <td>5</td>\n",
              "      <td>1.000000</td>\n",
              "      <td>1.000000</td>\n",
              "      <td>1.000000</td>\n",
              "      <td>1.000000</td>\n",
              "      <td>1.000000</td>\n",
              "      <td>1.000000</td>\n",
              "      <td>0.000000</td>\n",
              "    </tr>\n",
              "    <tr>\n",
              "      <th>4</th>\n",
              "      <td>5.143305</td>\n",
              "      <td>0.047553</td>\n",
              "      <td>3.994054</td>\n",
              "      <td>0.269924</td>\n",
              "      <td>10</td>\n",
              "      <td>0.001</td>\n",
              "      <td>{'C': 10, 'gamma': 0.001}</td>\n",
              "      <td>0.933929</td>\n",
              "      <td>0.945238</td>\n",
              "      <td>0.947024</td>\n",
              "      <td>...</td>\n",
              "      <td>0.944881</td>\n",
              "      <td>0.005815</td>\n",
              "      <td>1</td>\n",
              "      <td>0.999405</td>\n",
              "      <td>0.999405</td>\n",
              "      <td>0.999405</td>\n",
              "      <td>0.999405</td>\n",
              "      <td>0.999405</td>\n",
              "      <td>0.999405</td>\n",
              "      <td>0.000000</td>\n",
              "    </tr>\n",
              "    <tr>\n",
              "      <th>5</th>\n",
              "      <td>3.971116</td>\n",
              "      <td>0.046491</td>\n",
              "      <td>3.896980</td>\n",
              "      <td>0.089018</td>\n",
              "      <td>10</td>\n",
              "      <td>0.0001</td>\n",
              "      <td>{'C': 10, 'gamma': 0.0001}</td>\n",
              "      <td>0.911310</td>\n",
              "      <td>0.928571</td>\n",
              "      <td>0.927976</td>\n",
              "      <td>...</td>\n",
              "      <td>0.926071</td>\n",
              "      <td>0.009278</td>\n",
              "      <td>3</td>\n",
              "      <td>0.963542</td>\n",
              "      <td>0.964137</td>\n",
              "      <td>0.963839</td>\n",
              "      <td>0.961607</td>\n",
              "      <td>0.959524</td>\n",
              "      <td>0.962530</td>\n",
              "      <td>0.001744</td>\n",
              "    </tr>\n",
              "  </tbody>\n",
              "</table>\n",
              "<p>6 rows × 22 columns</p>\n",
              "</div>\n",
              "      <button class=\"colab-df-convert\" onclick=\"convertToInteractive('df-11cb88ee-69fd-4114-a528-4b4a5ad76a93')\"\n",
              "              title=\"Convert this dataframe to an interactive table.\"\n",
              "              style=\"display:none;\">\n",
              "        \n",
              "  <svg xmlns=\"http://www.w3.org/2000/svg\" height=\"24px\"viewBox=\"0 0 24 24\"\n",
              "       width=\"24px\">\n",
              "    <path d=\"M0 0h24v24H0V0z\" fill=\"none\"/>\n",
              "    <path d=\"M18.56 5.44l.94 2.06.94-2.06 2.06-.94-2.06-.94-.94-2.06-.94 2.06-2.06.94zm-11 1L8.5 8.5l.94-2.06 2.06-.94-2.06-.94L8.5 2.5l-.94 2.06-2.06.94zm10 10l.94 2.06.94-2.06 2.06-.94-2.06-.94-.94-2.06-.94 2.06-2.06.94z\"/><path d=\"M17.41 7.96l-1.37-1.37c-.4-.4-.92-.59-1.43-.59-.52 0-1.04.2-1.43.59L10.3 9.45l-7.72 7.72c-.78.78-.78 2.05 0 2.83L4 21.41c.39.39.9.59 1.41.59.51 0 1.02-.2 1.41-.59l7.78-7.78 2.81-2.81c.8-.78.8-2.07 0-2.86zM5.41 20L4 18.59l7.72-7.72 1.47 1.35L5.41 20z\"/>\n",
              "  </svg>\n",
              "      </button>\n",
              "      \n",
              "  <style>\n",
              "    .colab-df-container {\n",
              "      display:flex;\n",
              "      flex-wrap:wrap;\n",
              "      gap: 12px;\n",
              "    }\n",
              "\n",
              "    .colab-df-convert {\n",
              "      background-color: #E8F0FE;\n",
              "      border: none;\n",
              "      border-radius: 50%;\n",
              "      cursor: pointer;\n",
              "      display: none;\n",
              "      fill: #1967D2;\n",
              "      height: 32px;\n",
              "      padding: 0 0 0 0;\n",
              "      width: 32px;\n",
              "    }\n",
              "\n",
              "    .colab-df-convert:hover {\n",
              "      background-color: #E2EBFA;\n",
              "      box-shadow: 0px 1px 2px rgba(60, 64, 67, 0.3), 0px 1px 3px 1px rgba(60, 64, 67, 0.15);\n",
              "      fill: #174EA6;\n",
              "    }\n",
              "\n",
              "    [theme=dark] .colab-df-convert {\n",
              "      background-color: #3B4455;\n",
              "      fill: #D2E3FC;\n",
              "    }\n",
              "\n",
              "    [theme=dark] .colab-df-convert:hover {\n",
              "      background-color: #434B5C;\n",
              "      box-shadow: 0px 1px 3px 1px rgba(0, 0, 0, 0.15);\n",
              "      filter: drop-shadow(0px 1px 2px rgba(0, 0, 0, 0.3));\n",
              "      fill: #FFFFFF;\n",
              "    }\n",
              "  </style>\n",
              "\n",
              "      <script>\n",
              "        const buttonEl =\n",
              "          document.querySelector('#df-11cb88ee-69fd-4114-a528-4b4a5ad76a93 button.colab-df-convert');\n",
              "        buttonEl.style.display =\n",
              "          google.colab.kernel.accessAllowed ? 'block' : 'none';\n",
              "\n",
              "        async function convertToInteractive(key) {\n",
              "          const element = document.querySelector('#df-11cb88ee-69fd-4114-a528-4b4a5ad76a93');\n",
              "          const dataTable =\n",
              "            await google.colab.kernel.invokeFunction('convertToInteractive',\n",
              "                                                     [key], {});\n",
              "          if (!dataTable) return;\n",
              "\n",
              "          const docLinkHtml = 'Like what you see? Visit the ' +\n",
              "            '<a target=\"_blank\" href=https://colab.research.google.com/notebooks/data_table.ipynb>data table notebook</a>'\n",
              "            + ' to learn more about interactive tables.';\n",
              "          element.innerHTML = '';\n",
              "          dataTable['output_type'] = 'display_data';\n",
              "          await google.colab.output.renderOutput(dataTable, element);\n",
              "          const docLink = document.createElement('div');\n",
              "          docLink.innerHTML = docLinkHtml;\n",
              "          element.appendChild(docLink);\n",
              "        }\n",
              "      </script>\n",
              "    </div>\n",
              "  </div>\n",
              "  "
            ]
          },
          "metadata": {},
          "execution_count": 42
        }
      ]
    },
    {
      "cell_type": "code",
      "source": [
        "# converting C to numeric type for plotting on x-axis\n",
        "cv_results['param_C'] = cv_results['param_C'].astype('int')\n",
        "\n",
        "# # plotting\n",
        "plt.figure(figsize=(16,8))\n",
        "\n",
        "# subplot 1/3\n",
        "plt.subplot(131)\n",
        "gamma_01 = cv_results[cv_results['param_gamma']==0.01]\n",
        "\n",
        "plt.plot(gamma_01[\"param_C\"], gamma_01[\"mean_test_score\"])\n",
        "plt.plot(gamma_01[\"param_C\"], gamma_01[\"mean_train_score\"])\n",
        "plt.xlabel('C')\n",
        "plt.ylabel('Accuracy')\n",
        "plt.title(\"Gamma=0.01\")\n",
        "plt.ylim([0.60, 1])\n",
        "plt.legend(['test accuracy', 'train accuracy'], loc='upper left')\n",
        "plt.xscale('log')\n",
        "\n",
        "# subplot 2/3\n",
        "plt.subplot(132)\n",
        "gamma_001 = cv_results[cv_results['param_gamma']==0.001]\n",
        "\n",
        "plt.plot(gamma_001[\"param_C\"], gamma_001[\"mean_test_score\"])\n",
        "plt.plot(gamma_001[\"param_C\"], gamma_001[\"mean_train_score\"])\n",
        "plt.xlabel('C')\n",
        "plt.ylabel('Accuracy')\n",
        "plt.title(\"Gamma=0.001\")\n",
        "plt.ylim([0.60, 1])\n",
        "plt.legend(['test accuracy', 'train accuracy'], loc='upper left')\n",
        "plt.xscale('log')\n",
        "\n",
        "\n",
        "# subplot 3/3\n",
        "plt.subplot(133)\n",
        "gamma_0001 = cv_results[cv_results['param_gamma']==0.0001]\n",
        "\n",
        "plt.plot(gamma_0001[\"param_C\"], gamma_0001[\"mean_test_score\"])\n",
        "plt.plot(gamma_0001[\"param_C\"], gamma_0001[\"mean_train_score\"])\n",
        "plt.xlabel('C')\n",
        "plt.ylabel('Accuracy')\n",
        "plt.title(\"Gamma=0.0001\")\n",
        "plt.ylim([0.60, 1])\n",
        "plt.legend(['test accuracy', 'train accuracy'], loc='upper left')\n",
        "plt.xscale('log')"
      ],
      "metadata": {
        "colab": {
          "base_uri": "https://localhost:8080/",
          "height": 517
        },
        "id": "HFAQCA0jdd-S",
        "outputId": "b343358c-b2fb-4f97-dd72-126c861d925b"
      },
      "execution_count": null,
      "outputs": [
        {
          "output_type": "display_data",
          "data": {
            "text/plain": [
              "<Figure size 1152x576 with 3 Axes>"
            ],
            "image/png": "[encoded data removed]"
          },
          "metadata": {
            "needs_background": "light"
          }
        }
      ]
    },
    {
      "cell_type": "code",
      "source": [
        "# printing the optimal accuracy score and hyperparameters\n",
        "best_score = model_cv.best_score_\n",
        "best_hyperparams = model_cv.best_params_\n",
        "\n",
        "print(\"The best test score is {0} corresponding to hyperparameters {1}\".format(best_score, best_hyperparams))"
      ],
      "metadata": {
        "colab": {
          "base_uri": "https://localhost:8080/"
        },
        "id": "z_GEr7_ebzdi",
        "outputId": "5af15f8e-37a2-4cdb-c4e1-461ecb2ff6d3"
      },
      "execution_count": null,
      "outputs": [
        {
          "output_type": "stream",
          "name": "stdout",
          "text": [
            "The best test score is 0.9448809523809523 corresponding to hyperparameters {'C': 10, 'gamma': 0.001}\n"
          ]
        }
      ]
    },
    {
      "cell_type": "markdown",
      "source": [
        "#Final 1.1"
      ],
      "metadata": {
        "id": "hRGGmoczcPQ3"
      }
    },
    {
      "cell_type": "code",
      "source": [
        "# model with optimal hyperparameters\n",
        "\n",
        "# model\n",
        "model = SVC(C=10, gamma=0.001, kernel=\"rbf\")\n",
        "\n",
        "model.fit(X_train, y_train)\n",
        "y_pred = model.predict(X_test)\n",
        "\n",
        "# metrics\n",
        "print(\"accuracy\", metrics.accuracy_score(y_test, y_pred), \"\\n\")\n",
        "# cm\n",
        "cm = metrics.confusion_matrix(y_true=y_test, y_pred=y_pred)\n",
        "\n",
        "plot_confusion_matrix(cm,[\"0\",\"1\",\"2\",\"3\",\"4\",\"5\",\"6\",\"7\",\"8\",\"9\"], normalize = False)"
      ],
      "metadata": {
        "colab": {
          "base_uri": "https://localhost:8080/",
          "height": 537
        },
        "id": "JNvM0b0bcOwB",
        "outputId": "a1fa039c-2a6e-4f95-fc7e-cc688b7b836c"
      },
      "execution_count": null,
      "outputs": [
        {
          "output_type": "stream",
          "name": "stdout",
          "text": [
            "accuracy 0.9438888888888889 \n",
            "\n",
            "Confusion matrix, without normalization\n",
            "[[1163    0    4    1    1    2    8    6    3    0]\n",
            " [   0 1389    4    2    4    0    1    9    4    0]\n",
            " [   1    4 1184   14    5    1    9   30    7    5]\n",
            " [   0    3   15 1263    0   14    2   23    8    3]\n",
            " [   1    2   20    3 1149    0   10   10    2   21]\n",
            " [   2    8    3   30    4 1064   15    9   11    3]\n",
            " [   8    1    3    0    3   13 1167   23    1    0]\n",
            " [   4    9   10    8   12    0    0 1255    2   30]\n",
            " [   5   18   17   23    8   20    5   13 1098   10]\n",
            " [   5    3    2   27   21    1    1   51    3 1161]]\n"
          ]
        },
        {
          "output_type": "display_data",
          "data": {
            "text/plain": [
              "<Figure size 432x288 with 2 Axes>"
            ],
            "image/png": "[encoded data removed]"
          },
          "metadata": {
            "needs_background": "light"
          }
        }
      ]
    },
    {
      "cell_type": "markdown",
      "source": [
        "The accuracy achieved using a non-linear kernel (0.94) is mush higher than that of a linear one (0.91). We can conclude that the problem is highly non-linear in nature."
      ],
      "metadata": {
        "id": "Z9lcb9AIcnLh"
      }
    },
    {
      "cell_type": "code",
      "source": [
        "idx = np.where((y_pred == 2) &(y_test == 8))[0]\n",
        "fig = plt.figure(figsize=(5, 20))\n",
        "for i in range(len(idx)):\n",
        "  ax = fig.add_subplot(len(idx),1,i+1)\n",
        "  imgplot = ax.imshow(np.reshape(X_test[idx[i],:], (28,28)), cmap=plt.cm.get_cmap(\"Greys\"))\n",
        "  imgplot.set_interpolation(\"nearest\")\n",
        "plt.show()"
      ],
      "metadata": {
        "colab": {
          "base_uri": "https://localhost:8080/",
          "height": 1000
        },
        "id": "3wobM2EIsmmQ",
        "outputId": "846abe4e-2ca8-4b4e-905c-43a18c56c904"
      },
      "execution_count": null,
      "outputs": [
        {
          "output_type": "display_data",
          "data": {
            "text/plain": [
              "<Figure size 360x1440 with 17 Axes>"
            ],
            "image/png": "[encoded data removed]"
          },
          "metadata": {
            "needs_background": "light"
          }
        }
      ]
    },
    {
      "cell_type": "code",
      "source": [
        "cl_report = metrics.classification_report(y_test, y_pred)\n",
        "print(cl_report)\n"
      ],
      "metadata": {
        "colab": {
          "base_uri": "https://localhost:8080/"
        },
        "id": "cCHTqzAx5ko5",
        "outputId": "1fca86f7-9b3d-4543-e5ab-48bbcf96364d"
      },
      "execution_count": null,
      "outputs": [
        {
          "output_type": "stream",
          "name": "stdout",
          "text": [
            "              precision    recall  f1-score   support\n",
            "\n",
            "           0       0.98      0.98      0.98      1188\n",
            "           1       0.97      0.98      0.97      1413\n",
            "           2       0.94      0.94      0.94      1260\n",
            "           3       0.92      0.95      0.93      1331\n",
            "           4       0.95      0.94      0.95      1218\n",
            "           5       0.95      0.93      0.94      1149\n",
            "           6       0.96      0.96      0.96      1219\n",
            "           7       0.88      0.94      0.91      1330\n",
            "           8       0.96      0.90      0.93      1217\n",
            "           9       0.94      0.91      0.93      1275\n",
            "\n",
            "    accuracy                           0.94     12600\n",
            "   macro avg       0.95      0.94      0.94     12600\n",
            "weighted avg       0.94      0.94      0.94     12600\n",
            "\n"
          ]
        }
      ]
    },
    {
      "cell_type": "markdown",
      "source": [
        "#Trường hợp data không normalize"
      ],
      "metadata": {
        "id": "9L0oS6vw4EKf"
      }
    },
    {
      "cell_type": "code",
      "source": [
        "# model with optimal hyperparameters\n",
        "\n",
        "# model\n",
        "model = SVC(C=10, gamma=0.001, kernel=\"rbf\")\n",
        "\n",
        "model.fit(X_train, y_train)\n",
        "y_pred_train = model.predict(X_train)\n",
        "\n",
        "# metrics\n",
        "print(\"accuracy\", metrics.accuracy_score(y_train, y_pred_train), \"\\n\")\n",
        "# cm\n",
        "cm = metrics.confusion_matrix(y_true=y_train, y_pred=y_pred_train)\n",
        "\n",
        "plot_confusion_matrix(cm,[\"0\",\"1\",\"2\",\"3\",\"4\",\"5\",\"6\",\"7\",\"8\",\"9\"], normalize = False)"
      ],
      "metadata": {
        "id": "susK7zCH99Fk",
        "colab": {
          "base_uri": "https://localhost:8080/"
        },
        "outputId": "afaaf89e-3e35-4955-8d20-e081927255a4"
      },
      "execution_count": null,
      "outputs": [
        {
          "output_type": "stream",
          "name": "stdout",
          "text": [
            "accuracy 0.9992857142857143 \n",
            "\n",
            "Confusion matrix, without normalization\n",
            "[[883   0   0   0   0   0   0   0   0   0]\n",
            " [  0 903   0   0   0   0   0   0   0   0]\n",
            " [  0   0 855   0   0   0   0   0   0   0]\n",
            " [  0   0   0 880   0   1   0   0   0   0]\n",
            " [  0   0   0   0 758   0   0   0   0   2]\n",
            " [  0   0   0   0   0 745   0   0   0   0]\n",
            " [  0   0   0   0   0   0 842   0   0   0]\n",
            " [  0   1   0   0   0   0   0 886   0   0]\n",
            " [  0   0   0   0   0   0   0   0 815   0]\n",
            " [  0   0   0   0   0   0   0   2   0 827]]\n"
          ]
        },
        {
          "output_type": "display_data",
          "data": {
            "text/plain": [
              "<Figure size 432x288 with 2 Axes>"
            ],
            "image/png": "[encoded data removed]"
          },
          "metadata": {
            "needs_background": "light"
          }
        }
      ]
    }
  ]
}